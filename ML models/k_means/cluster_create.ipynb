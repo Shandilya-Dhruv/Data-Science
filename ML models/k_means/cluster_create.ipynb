{
 "cells": [
  {
   "cell_type": "code",
   "execution_count": 22,
   "metadata": {},
   "outputs": [
    {
     "data": {
      "text/plain": [
       "'cluster_create.ipynb is used to create a cluster dataset having the following functionalities : \\n1) Can create k clusters of equal size\\n2) Can create k clusters of unequal size\\nnote: everything here is done for 2 dimensions for visualisation purposes but can be done for more dimensions as well'"
      ]
     },
     "execution_count": 22,
     "metadata": {},
     "output_type": "execute_result"
    }
   ],
   "source": [
    "\"\"\"cluster_create.ipynb is used to create a cluster dataset having the following functionalities : \n",
    "1) Can create k clusters of equal size\n",
    "2) Can create k clusters of unequal size\n",
    "note: everything here is done for 2 dimensions for visualisation purposes but can be done for more dimensions as well\"\"\""
   ]
  },
  {
   "cell_type": "code",
   "execution_count": 23,
   "metadata": {},
   "outputs": [],
   "source": [
    "import numpy as np\n",
    "import pandas as pd\n",
    "import random\n",
    "import matplotlib.pyplot as plt"
   ]
  },
  {
   "cell_type": "code",
   "execution_count": 24,
   "metadata": {},
   "outputs": [],
   "source": [
    "def generate_random(dataframe, cluster_number, n_points = 100, centre = (0,0), radius = 10):\n",
    "\n",
    "    \"\"\"\n",
    "        desc: this function returns list of random points ditributed uniformly within a circle.\n",
    "\n",
    "        dataframe : (pandas dataframe) The dataframe onto which we will add our cluster\n",
    "        cluster_number : (int) the index of the cluster which we will be adding to our dataframe\n",
    "        n_points : (int) The number of random points we want to sample from our uniform circle.\n",
    "        centre : (tuple of int) The centre of the uniform circle from which we sample our data.\n",
    "        radius : (int) The radius of the uniform circle from which we sample.\n",
    "\n",
    "        returns : (dataframe) return the dataframe having our new cluster added.\n",
    "    \"\"\"\n",
    "\n",
    "    for i in range(n_points):\n",
    "\n",
    "        theta_rand = random.uniform(0,2*np.pi)\n",
    "        r_rand = radius*np.sqrt(random.uniform(0,1))\n",
    "\n",
    "        p = [0,0]\n",
    "\n",
    "        p[0] = centre[0] + r_rand*np.cos(theta_rand)\n",
    "        p[1] = centre[1] + r_rand*np.sin(theta_rand)\n",
    "\n",
    "        dataframe.loc[len(dataframe.index)] = [p[0], p[1], cluster_number] \n",
    "    \n",
    "    return dataframe"
   ]
  },
  {
   "cell_type": "code",
   "execution_count": 25,
   "metadata": {},
   "outputs": [],
   "source": [
    "def distance(x,y,x2,y2):\n",
    "    return np.sqrt((x-x2)**2 + (y-y2)**2)"
   ]
  },
  {
   "cell_type": "code",
   "execution_count": 26,
   "metadata": {},
   "outputs": [],
   "source": [
    "class create_cluster_dataset:\n",
    "\n",
    "    def __init__(self, num_clusters):\n",
    "        \"\"\"\n",
    "        desc: We initialise some variables of create_cluster_dataset class.\n",
    "\n",
    "        num_clusters : (int) The number of clusters we want in our dataset\n",
    "        \n",
    "        list_circ : (list) Empty list created to hold the tuple (centre_x,centre_y,radius) for each cluster\n",
    "        \n",
    "        returns : (None) No return.\n",
    "        \"\"\"\n",
    "        self.num_clusters = num_clusters\n",
    "        self.list_circ = []\n",
    "\n",
    "    def add_clusters(self, same_radius = False, same_size = False):\n",
    "        \"\"\"\n",
    "        desc: We assign self.list_circ with num_clusters amount of non overlapping cluster and add all cluster to our dataframe.\n",
    "\n",
    "        same_radius : (bool) Boolean flag to say whether our circles have same radius or not.\n",
    "        same_size : (bool) Boolean flag to say whether number of each points in each cluster are same or not.\n",
    "        \n",
    "        returns : (pandas dataframe) return the final dataframe storing all the points of each cluster.\n",
    "        NOTE : This is a random algorithm and hence may take variable time to compute.\n",
    "        \"\"\"\n",
    "\n",
    "        while len(self.list_circ)<self.num_clusters:\n",
    "\n",
    "            r = np.random.randint(10,40)\n",
    "            if same_radius:\n",
    "                r = 15\n",
    "            x = np.random.randint(-200,200)\n",
    "            y = np.random.randint(-200,200)\n",
    "\n",
    "            if len(self.list_circ) == 0:\n",
    "                self.list_circ.append((x,y,r))\n",
    "                continue\n",
    "\n",
    "            else:\n",
    "                b = True\n",
    "                for i in self.list_circ:\n",
    "                    d = distance(x,y,i[0],i[1])\n",
    "                    if d < r + i[2]:\n",
    "                        b = False\n",
    "                        break\n",
    "                if(b):\n",
    "                    self.list_circ.append((x,y,r))\n",
    "\n",
    "        df = pd.DataFrame(columns=['X','Y','cluster_number'])\n",
    "\n",
    "        for j in range(len(self.list_circ)):\n",
    "            n_points = np.random.randint(100,250)\n",
    "            if same_size:\n",
    "                n_points = 150\n",
    "            i = self.list_circ[j]\n",
    "            df = generate_random(df,j,n_points,(i[0],i[1]),i[2])\n",
    "            \n",
    "        return df\n",
    "\n",
    "    def randomise_dataset(self, dataframe):\n",
    "        \"\"\"\n",
    "        desc : Shuffles the dataframe rows which contain points belonging to different clusters.\n",
    "\n",
    "        dataframe : (pandas dataframe) The dataframe which contains points belonging to different clusters.\n",
    "\n",
    "        return : (pandas dataframe) returns the new shuffled dataframe.\n",
    "        \"\"\"\n",
    "        dataframe = dataframe.sample(frac = 1).reset_index(drop=True)\n",
    "        return dataframe\n",
    "\n",
    "    def create_dataset(self, same_radius = False, same_size = False):\n",
    "        \"\"\"\n",
    "        desc: We create our cluster dataset and shuffle the rows.\n",
    "\n",
    "        same_radius : (bool) Boolean flag to say whether our circles have same radius or not.\n",
    "        same_size : (bool) Boolean flag to say whether number of each points in each cluster are same or not.\n",
    "\n",
    "        returns : (pandas dataframe) return the final dataframe storing all the points of each cluster.\n",
    "        \"\"\"\n",
    "\n",
    "        df = self.add_clusters(same_radius=same_radius,same_size=same_size)\n",
    "        df = self.randomise_dataset(df)\n",
    "        return df\n",
    "\n",
    "    def plot_clusters(self, dataframe):\n",
    "        \"\"\"\n",
    "        desc : This plots a graph of all the clusters in different colours.\n",
    "\n",
    "        dataframe : (pandas dataframe) The dataframe which contains points belonging to different clusters.\n",
    "\n",
    "        return : (None).\n",
    "        \"\"\"\n",
    "\n",
    "        df = dataframe.groupby('cluster_number')\n",
    "\n",
    "        for i in range(self.num_clusters):\n",
    "            t = df.get_group(i)\n",
    "            x = t['X']\n",
    "            y = t['Y']\n",
    "            plt.scatter(x,y,s=1)\n",
    "        plt.show()"
   ]
  },
  {
   "cell_type": "code",
   "execution_count": 27,
   "metadata": {},
   "outputs": [],
   "source": [
    "c = create_cluster_dataset(6)\n",
    "df = c.create_dataset(same_radius=False,same_size=False)"
   ]
  },
  {
   "cell_type": "code",
   "execution_count": 28,
   "metadata": {},
   "outputs": [
    {
     "name": "stdout",
     "output_type": "stream",
     "text": [
      "6\n",
      "[(113, 39, 24), (-161, -115, 23), (20, -162, 11), (156, -66, 11), (1, 128, 11), (1, -56, 30)]\n"
     ]
    },
    {
     "data": {
      "image/png": "[encoded data removed]",
      "text/plain": [
       "<Figure size 640x480 with 1 Axes>"
      ]
     },
     "metadata": {},
     "output_type": "display_data"
    }
   ],
   "source": [
    "df.to_csv('cluster.csv', index=False )\n",
    "print(c.num_clusters)\n",
    "print(c.list_circ)\n",
    "c.plot_clusters(df)"
   ]
  }
 ],
 "metadata": {
  "kernelspec": {
   "display_name": "Python 3.8.9 64-bit",
   "language": "python",
   "name": "python3"
  },
  "language_info": {
   "codemirror_mode": {
    "name": "ipython",
    "version": 3
   },
   "file_extension": ".py",
   "mimetype": "text/x-python",
   "name": "python",
   "nbconvert_exporter": "python",
   "pygments_lexer": "ipython3",
   "version": "3.10.6"
  },
  "orig_nbformat": 4,
  "vscode": {
   "interpreter": {
    "hash": "31f2aee4e71d21fbe5cf8b01ff0e069b9275f58929596ceb00d14d90e3e16cd6"
   }
  }
 },
 "nbformat": 4,
 "nbformat_minor": 2
}
