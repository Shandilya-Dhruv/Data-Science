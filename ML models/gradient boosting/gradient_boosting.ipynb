{
 "cells": [
  {
   "cell_type": "code",
   "execution_count": null,
   "metadata": {},
   "outputs": [],
   "source": [
    "import numpy as np\n",
    "from decision_trees import *"
   ]
  },
  {
   "cell_type": "code",
   "execution_count": null,
   "metadata": {},
   "outputs": [],
   "source": [
    "class Node:\n",
    "    \n",
    "    def __init__(self, bool_leaf = False, threshold = None, feature = None, output = None):\n",
    "        self.bool_leaf = bool_leaf\n",
    "        self.threshold = threshold\n",
    "        self.feature = feature\n",
    "        self.output = output\n",
    "    "
   ]
  },
  {
   "cell_type": "code",
   "execution_count": null,
   "metadata": {},
   "outputs": [],
   "source": [
    "class gradient_boosting:\n",
    "    \n",
    "    def __init__(self, learning_rate, num_trees, max_depth, type = \"Classification\"):\n",
    "        \"\"\"\n",
    "        desc : Constructor for gradient_boosting.\n",
    "\n",
    "        learning_rate : (float) specifies the learning rate for our GB.\n",
    "        num_trees : (int) number of trees in our decision tree.\n",
    "        max_depth : (int) maximum depth of our decision tree.\n",
    "        type : (string) from : ['Classification','Regression']. specifies the type of problem.\n",
    "        \n",
    "        return : (None)\n",
    "        \"\"\"\n",
    "        self.learning_rate = learning_rate\n",
    "        self.num_trees = num_trees\n",
    "        self.max_depth = max_depth\n",
    "        self.list_trees = []\n",
    "        self.type = type\n",
    "    \n",
    "    def build(self, X, Y):\n",
    "        \"\"\"\n",
    "        desc : Adds new decision trees to self.list_trees\n",
    "\n",
    "        X : (numpy) dataset we have to classify without the target variable.\n",
    "        Y : (list) target variable.\n",
    "        \n",
    "        return : (None) Adds new decision trees to self.list_trees.\n",
    "        \"\"\"\n",
    "        # Here we add initial guess onto our list.\n",
    "        initial_guess = 0\n",
    "        if self.type == 'Classification':\n",
    "            initial_guess = np.log(sum(Y)/(len(Y)-sum(Y)))\n",
    "        else:\n",
    "            initial_guess = sum(Y)/len(Y)\n",
    "        self.list_trees.append(initial_guess)\n",
    "        \n",
    "        # initialising prediction list\n",
    "        pred = [initial_guess for i in Y]\n",
    "        \n",
    "        # Now we add further decision trees onto our list.\n",
    "        for i in range(self.num_trees):\n",
    "            # step 2(A) find the residuals\n",
    "            residuals = Y - pred\n",
    "            # step 2(B) build dec_tree and step 2(C) output of each leaf_node saved in itself.\n",
    "            t = decision_tree.build_tree(X, self.max_depth, residuals, self.type)\n",
    "            self.list_trees.append(t)\n",
    "            # step 2(D) update pred list\n",
    "            pred = pred + self.learning_rate*t.output(X)"
   ]
  }
 ],
 "metadata": {
  "language_info": {
   "name": "python"
  },
  "orig_nbformat": 4
 },
 "nbformat": 4,
 "nbformat_minor": 2
}
