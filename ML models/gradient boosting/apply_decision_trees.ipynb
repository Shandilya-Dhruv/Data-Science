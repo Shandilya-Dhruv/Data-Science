{
 "cells": [
  {
   "cell_type": "code",
   "execution_count": null,
   "metadata": {},
   "outputs": [],
   "source": [
    "import pandas as pd\n",
    "import numpy as np\n",
    "from decision_trees import *\n",
    "from sklearn.model_selection import train_test_split\n",
    "from sklearn.linear_model import LinearRegression\n",
    "from sklearn.metrics import r2_score\n",
    "from decision_trees import *"
   ]
  },
  {
   "cell_type": "code",
   "execution_count": null,
   "metadata": {},
   "outputs": [],
   "source": [
    "df = pd.read_csv('carPriceData.csv')\n",
    "\n",
    "# EDA on our data\n",
    "\n",
    "for i in df.columns:\n",
    "    l = df[i].isna().sum()/len(df[i])\n",
    "    # print('NAN% for ',i,' is : ',l)\n",
    "    \n",
    "drop_column = ['Market Category','Model']\n",
    "\n",
    "for i in drop_column:\n",
    "    df = df.drop(i,axis = 1)\n",
    "\n",
    "df = df.dropna()\n",
    "\n",
    "for i in df.columns:\n",
    "    if df.dtypes[i] == object:\n",
    "        print(i,\" : \",len(df[i].unique()))\n",
    "        \n",
    "encode_list = ['Make','Engine Fuel Type','Transmission Type','Driven_Wheels','Vehicle Size','Vehicle Style']\n",
    "\n",
    "df = pd.get_dummies(df,columns=encode_list)\n",
    "df = df.sample(n=1000, random_state=42)"
   ]
  },
  {
   "cell_type": "code",
   "execution_count": null,
   "metadata": {},
   "outputs": [],
   "source": [
    "X = df.iloc[:, :-1]\n",
    "y = df.iloc[:, -1]\n",
    "\n",
    "# Creating our test and train dataset\n",
    "X_train, X_test, y_train, y_test = train_test_split(X, y, test_size=0.2, random_state=42)\n",
    "X_train = X_train.to_numpy()\n",
    "X_test = X_test.to_numpy()\n",
    "y_train = y_train.to_numpy()\n",
    "y_test = y_test.to_numpy()"
   ]
  },
  {
   "cell_type": "code",
   "execution_count": null,
   "metadata": {},
   "outputs": [],
   "source": [
    "o = decision_tree(max_depth=10,min_sample_size=50)\n",
    "o.build_tree(X=X_train,depth=0,Y=y_train,type='Regression')\n",
    "o.print_tree(o.root,0)"
   ]
  },
  {
   "cell_type": "code",
   "execution_count": null,
   "metadata": {},
   "outputs": [],
   "source": [
    "y_pred = o.predict()"
   ]
  },
  {
   "cell_type": "code",
   "execution_count": null,
   "metadata": {},
   "outputs": [],
   "source": [
    "print(r2_score(y_pred,y_test))"
   ]
  }
 ],
 "metadata": {
  "kernelspec": {
   "display_name": "Python 3",
   "language": "python",
   "name": "python3"
  },
  "language_info": {
   "codemirror_mode": {
    "name": "ipython",
    "version": 3
   },
   "file_extension": ".py",
   "mimetype": "text/x-python",
   "name": "python",
   "nbconvert_exporter": "python",
   "pygments_lexer": "ipython3",
   "version": "3.10.6"
  },
  "orig_nbformat": 4
 },
 "nbformat": 4,
 "nbformat_minor": 2
}
