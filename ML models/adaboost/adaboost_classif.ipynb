{
 "cells": [
  {
   "cell_type": "code",
   "execution_count": 1,
   "metadata": {},
   "outputs": [],
   "source": [
    "import pandas as pd\n",
    "import numpy as np\n",
    "\n",
    "from stump import *"
   ]
  },
  {
   "cell_type": "code",
   "execution_count": 2,
   "metadata": {},
   "outputs": [],
   "source": [
    "#converting input to the required format\n",
    "\n",
    "from sklearn.impute import SimpleImputer\n",
    "\n",
    "train = pd.read_csv('train_classif.csv')\n",
    "test = pd.read_csv('test_classif.csv')\n",
    "\n",
    "relevant_features = ['Pclass','Sex','Age','SibSp','Parch','Fare','Embarked']\n",
    "\n",
    "imputer = SimpleImputer(strategy='most_frequent')\n",
    "train[relevant_features] = imputer.fit_transform(train[relevant_features])\n",
    "test[relevant_features] = imputer.transform(test[relevant_features])\n",
    "\n",
    "#encoding\n",
    "train['Sex'] = train['Sex'].map({'male':0, 'female':1})\n",
    "test['Sex'] = test['Sex'].map({'male':0, 'female':1})\n",
    "train['Embarked'] = train['Embarked'].map({'S':0,'C':1,'Q':2})\n",
    "test['Embarked'] = test['Embarked'].map({'S':0,'C':1,'Q':2})\n",
    "\n",
    "X = train[relevant_features].to_numpy()\n",
    "X_test = test[relevant_features].to_numpy()\n",
    "Y = train['Survived'].to_numpy()"
   ]
  },
  {
   "cell_type": "code",
   "execution_count": 3,
   "metadata": {},
   "outputs": [],
   "source": [
    "class adaboost_for_classif:\n",
    "    \n",
    "    def __init__(self):\n",
    "        self.stump_list = []\n",
    "        \n",
    "    def add_stump(self,X,Y,weights):\n",
    "        \n",
    "        o = stump()\n",
    "        weights = o.best_stump(X,Y,weights,'classif')\n",
    "        self.stump_list.append(o)\n",
    "        \n",
    "        return weights\n",
    "                \n",
    "    def build(self, X, Y, n_iter):\n",
    "        \n",
    "        # giving equal weight to all datapoints\n",
    "        weights = [1/X.shape[0] for i in range(X.shape[0])]\n",
    "        \n",
    "        for i in range(n_iter):\n",
    "            weights = self.add_stump(X,Y,weights)\n",
    "            "
   ]
  },
  {
   "cell_type": "code",
   "execution_count": 4,
   "metadata": {},
   "outputs": [
    {
     "name": "stdout",
     "output_type": "stream",
     "text": [
      "(891, 7)\n",
      "<class 'list'>\n",
      "<stump.stump object at 0x00000187E7BCEEC0>\n"
     ]
    }
   ],
   "source": [
    "print(X.shape)\n",
    "\n",
    "o = stump()\n",
    "weights = [1/X.shape[0] for i in range(X.shape[0])]\n",
    "o.best_stump(X,Y,weights,'classif')\n",
    "print(o)\n",
    "\n",
    "# test['Survived'] = o.predict(X_test)\n",
    "# submissions = test[['PassengerId', 'Survived']]\n",
    "\n",
    "# submissions.to_csv('submission.csv', index=False )"
   ]
  },
  {
   "cell_type": "code",
   "execution_count": 6,
   "metadata": {},
   "outputs": [
    {
     "name": "stdout",
     "output_type": "stream",
     "text": [
      "<stump.leaf object at 0x00000187E7BCF160> <stump.leaf object at 0x00000187E7BCEFE0> 0.23664385201205487 0 1\n",
      "[[3 0 22.0 ... 0 7.25 0]\n",
      " [1 1 38.0 ... 0 71.2833 1]\n",
      " [3 1 26.0 ... 0 7.925 0]\n",
      " ...\n",
      " [3 1 24.0 ... 2 23.45 0]\n",
      " [1 0 26.0 ... 0 30.0 1]\n",
      " [3 0 32.0 ... 0 7.75 2]]\n"
     ]
    }
   ],
   "source": [
    "print(o.left,o.right,o.stump_weight,o.threshold,o.feature)\n",
    "print(X)"
   ]
  }
 ],
 "metadata": {
  "kernelspec": {
   "display_name": "Python 3",
   "language": "python",
   "name": "python3"
  },
  "language_info": {
   "codemirror_mode": {
    "name": "ipython",
    "version": 3
   },
   "file_extension": ".py",
   "mimetype": "text/x-python",
   "name": "python",
   "nbconvert_exporter": "python",
   "pygments_lexer": "ipython3",
   "version": "3.10.6"
  },
  "orig_nbformat": 4
 },
 "nbformat": 4,
 "nbformat_minor": 2
}
