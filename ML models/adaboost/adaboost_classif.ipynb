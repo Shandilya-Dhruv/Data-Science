{
 "cells": [
  {
   "cell_type": "code",
   "execution_count": 1,
   "metadata": {},
   "outputs": [],
   "source": [
    "import pandas as pd\n",
    "import numpy as np\n",
    "\n",
    "from stump import *"
   ]
  },
  {
   "cell_type": "code",
   "execution_count": 2,
   "metadata": {},
   "outputs": [],
   "source": [
    "#converting input to the required format\n",
    "\n",
    "from sklearn.impute import SimpleImputer\n",
    "\n",
    "train = pd.read_csv('train_classif.csv')\n",
    "test = pd.read_csv('test_classif.csv')\n",
    "\n",
    "relevant_features = ['Pclass','Sex','Age','SibSp','Parch','Fare','Embarked']\n",
    "\n",
    "imputer = SimpleImputer(strategy='most_frequent')\n",
    "train[relevant_features] = imputer.fit_transform(train[relevant_features])\n",
    "test[relevant_features] = imputer.transform(test[relevant_features])\n",
    "\n",
    "#encoding\n",
    "train['Sex'] = train['Sex'].map({'male':0, 'female':1})\n",
    "test['Sex'] = test['Sex'].map({'male':0, 'female':1})\n",
    "train['Embarked'] = train['Embarked'].map({'S':0,'C':1,'Q':2})\n",
    "test['Embarked'] = test['Embarked'].map({'S':0,'C':1,'Q':2})\n",
    "\n",
    "X = train[relevant_features].to_numpy()\n",
    "X_test = test[relevant_features].to_numpy()\n",
    "Y = train['Survived'].to_numpy()"
   ]
  },
  {
   "cell_type": "code",
   "execution_count": 3,
   "metadata": {},
   "outputs": [],
   "source": [
    "class adaboost_for_classif:\n",
    "    \n",
    "    def __init__(self):\n",
    "        self.stump_list = []\n",
    "        \n",
    "    def add_stump(self,X,Y,weights):\n",
    "        \n",
    "        o = stump()\n",
    "        weights = o.best_stump(X,Y,weights,'classif')\n",
    "        self.stump_list.append(o)\n",
    "        \n",
    "        return weights\n",
    "                \n",
    "    def build(self, X, Y, n_iter):\n",
    "        \n",
    "        # giving equal weight to all datapoints\n",
    "        weights = [1/X.shape[0] for i in range(X.shape[0])]\n",
    "        for i in range(n_iter):\n",
    "            weights = self.add_stump(X,Y,weights)\n",
    "    \n",
    "    def predict_row(self, row):\n",
    "        \n",
    "        pred = 0\n",
    "        s = 0\n",
    "        \n",
    "        for i in self.stump_list:\n",
    "            outcome = 0.5\n",
    "            if row[i.feature] <= i.threshold:\n",
    "                outcome = i.left.classif\n",
    "            else:\n",
    "                outcome = i.right.classif\n",
    "            \n",
    "            pred += outcome * i.stump_weight\n",
    "            s += i.stump_weight\n",
    "        \n",
    "        pred = pred/s\n",
    "        return pred>0.5\n",
    "    \n",
    "    def predict(self, X_test):\n",
    "        \n",
    "        result = []\n",
    "        \n",
    "        for i in range(X_test.shape[0]):\n",
    "            a = 0\n",
    "            if self.predict_row(X_test[i]):\n",
    "                a = 1\n",
    "            result.append(a)\n",
    "            \n",
    "        return result"
   ]
  },
  {
   "cell_type": "code",
   "execution_count": 4,
   "metadata": {},
   "outputs": [],
   "source": [
    "o = adaboost_for_classif()\n",
    "o.build(X,Y,10)"
   ]
  },
  {
   "cell_type": "code",
   "execution_count": 5,
   "metadata": {},
   "outputs": [],
   "source": [
    "test['Survived'] = o.predict(X_test)\n",
    "submissions = test[['PassengerId', 'Survived']]\n",
    "\n",
    "submissions.to_csv('submission.csv', index=False )"
   ]
  },
  {
   "cell_type": "code",
   "execution_count": 6,
   "metadata": {},
   "outputs": [
    {
     "name": "stdout",
     "output_type": "stream",
     "text": [
      "131\n"
     ]
    }
   ],
   "source": [
    "print(test['Survived'].sum())"
   ]
  }
 ],
 "metadata": {
  "kernelspec": {
   "display_name": "Python 3",
   "language": "python",
   "name": "python3"
  },
  "language_info": {
   "codemirror_mode": {
    "name": "ipython",
    "version": 3
   },
   "file_extension": ".py",
   "mimetype": "text/x-python",
   "name": "python",
   "nbconvert_exporter": "python",
   "pygments_lexer": "ipython3",
   "version": "3.10.6"
  },
  "orig_nbformat": 4
 },
 "nbformat": 4,
 "nbformat_minor": 2
}
