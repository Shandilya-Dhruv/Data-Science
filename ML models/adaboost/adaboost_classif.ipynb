{
 "cells": [
  {
   "cell_type": "code",
   "execution_count": 7,
   "metadata": {},
   "outputs": [],
   "source": [
    "import pandas as pd\n",
    "import numpy as np\n",
    "\n",
    "from stump import *"
   ]
  },
  {
   "cell_type": "code",
   "execution_count": 8,
   "metadata": {},
   "outputs": [],
   "source": [
    "#converting input to the required format\n",
    "\n",
    "from sklearn.impute import SimpleImputer\n",
    "\n",
    "train = pd.read_csv('train_classif.csv')\n",
    "test = pd.read_csv('test_classif.csv')\n",
    "\n",
    "relevant_features = ['Pclass','Sex','Age','SibSp','Parch','Fare','Embarked']\n",
    "\n",
    "imputer = SimpleImputer(strategy='most_frequent')\n",
    "train[relevant_features] = imputer.fit_transform(train[relevant_features])\n",
    "test[relevant_features] = imputer.transform(test[relevant_features])\n",
    "\n",
    "#encoding\n",
    "train['Sex'] = train['Sex'].map({'male':0, 'female':1})\n",
    "test['Sex'] = test['Sex'].map({'male':0, 'female':1})\n",
    "train['Embarked'] = train['Embarked'].map({'S':0,'C':1,'Q':2})\n",
    "test['Embarked'] = test['Embarked'].map({'S':0,'C':1,'Q':2})\n",
    "\n",
    "X = train[relevant_features].to_numpy()\n",
    "X_test = test[relevant_features].to_numpy()\n",
    "Y = train['Survived'].to_numpy()"
   ]
  },
  {
   "cell_type": "code",
   "execution_count": 9,
   "metadata": {},
   "outputs": [],
   "source": [
    "class adaboost_for_classif:\n",
    "    \n",
    "    def __init__(self):\n",
    "        self.stump_list = []\n",
    "        \n",
    "    def add_stump(self,X,Y,weights):\n",
    "        \n",
    "        o = stump()\n",
    "        weights = o.best_stump(X,Y,weights,'classif')\n",
    "        self.stump_list.append(o)\n",
    "        \n",
    "        return weights\n",
    "                \n",
    "    def build(self, X, Y, n_iter):\n",
    "        \n",
    "        # giving equal weight to all datapoints\n",
    "        weights = [1/X.shape[0] for i in range(X.shape[0])]\n",
    "        \n",
    "        for i in range(n_iter):\n",
    "            weights = self.add_stump(X,Y,weights)\n",
    "            "
   ]
  },
  {
   "cell_type": "code",
   "execution_count": 10,
   "metadata": {},
   "outputs": [
    {
     "name": "stdout",
     "output_type": "stream",
     "text": [
      "<class 'list'>\n",
      "<class 'list'>\n",
      "<class 'list'>\n",
      "<class 'list'>\n",
      "<class 'list'>\n",
      "<class 'list'>\n",
      "<class 'list'>\n",
      "<class 'list'>\n",
      "<class 'list'>\n",
      "<class 'list'>\n",
      "[<stump.stump object at 0x00000187E7BCD960>, <stump.stump object at 0x00000187E7BCEFE0>, <stump.stump object at 0x00000187E7BCC160>, <stump.stump object at 0x00000187E7BCF0D0>, <stump.stump object at 0x00000187E7BCD030>, <stump.stump object at 0x00000187E7BCCB80>, <stump.stump object at 0x00000187E7BCF430>, <stump.stump object at 0x00000187E7BCD180>, <stump.stump object at 0x00000187E7BCD270>, <stump.stump object at 0x00000187E7BCD870>]\n"
     ]
    }
   ],
   "source": [
    "o = adaboost_for_classif()\n",
    "o.build(X,Y,10)\n",
    "print(o.stump_list)\n",
    "\n",
    "# test['Survived'] = o.predict(X_test)\n",
    "# submissions = test[['PassengerId', 'Survived']]\n",
    "\n",
    "# submissions.to_csv('submission.csv', index=False )"
   ]
  }
 ],
 "metadata": {
  "kernelspec": {
   "display_name": "Python 3",
   "language": "python",
   "name": "python3"
  },
  "language_info": {
   "codemirror_mode": {
    "name": "ipython",
    "version": 3
   },
   "file_extension": ".py",
   "mimetype": "text/x-python",
   "name": "python",
   "nbconvert_exporter": "python",
   "pygments_lexer": "ipython3",
   "version": "3.10.6"
  },
  "orig_nbformat": 4
 },
 "nbformat": 4,
 "nbformat_minor": 2
}
