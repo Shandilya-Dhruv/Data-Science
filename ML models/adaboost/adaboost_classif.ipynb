{
 "cells": [
  {
   "cell_type": "code",
   "execution_count": 59,
   "metadata": {},
   "outputs": [],
   "source": [
    "import pandas as pd\n",
    "import numpy as np\n",
    "\n",
    "from stump import *"
   ]
  },
  {
   "cell_type": "code",
   "execution_count": 60,
   "metadata": {},
   "outputs": [],
   "source": [
    "#converting input to the required format\n",
    "\n",
    "from sklearn.impute import SimpleImputer\n",
    "\n",
    "train = pd.read_csv('train_classif.csv')\n",
    "test = pd.read_csv('test_classif.csv')\n",
    "\n",
    "relevant_features = ['Pclass','Sex','Age','SibSp','Parch','Fare','Embarked']\n",
    "\n",
    "imputer = SimpleImputer(strategy='most_frequent')\n",
    "train[relevant_features] = imputer.fit_transform(train[relevant_features])\n",
    "test[relevant_features] = imputer.transform(test[relevant_features])\n",
    "\n",
    "#encoding\n",
    "train['Sex'] = train['Sex'].map({'male':0, 'female':1})\n",
    "test['Sex'] = test['Sex'].map({'male':0, 'female':1})\n",
    "train['Embarked'] = train['Embarked'].map({'S':0,'C':1,'Q':2})\n",
    "test['Embarked'] = test['Embarked'].map({'S':0,'C':1,'Q':2})\n",
    "\n",
    "X = train[relevant_features].to_numpy()\n",
    "X_test = test[relevant_features].to_numpy()\n",
    "Y = train['Survived'].to_numpy()"
   ]
  },
  {
   "cell_type": "code",
   "execution_count": 61,
   "metadata": {},
   "outputs": [],
   "source": [
    "class adaboost_for_classif:\n",
    "    \n",
    "    def __init__(self):\n",
    "        self.stump_list = []\n",
    "        \n",
    "    def add_stump(self,X,Y,weights):\n",
    "        \n",
    "        o = stump()\n",
    "        weights = o.best_stump(X,Y,weights,'classif')\n",
    "        self.stump_list.append(o)\n",
    "        \n",
    "        return weights\n",
    "                \n",
    "    def build(self, X, Y, n_iter):\n",
    "        \n",
    "        # giving equal weight to all datapoints\n",
    "        weights = [1/X.shape[0] for i in range(X.shape[0])]\n",
    "        \n",
    "        for i in range(n_iter):\n",
    "            weights = self.add_stump(X,Y,weights)\n",
    "            "
   ]
  },
  {
   "cell_type": "code",
   "execution_count": 62,
   "metadata": {},
   "outputs": [
    {
     "ename": "StatisticsError",
     "evalue": "no mode for empty data",
     "output_type": "error",
     "traceback": [
      "\u001b[1;31m---------------------------------------------------------------------------\u001b[0m",
      "\u001b[1;31mStatisticsError\u001b[0m                           Traceback (most recent call last)",
      "Cell \u001b[1;32mIn[62], line 3\u001b[0m\n\u001b[0;32m      1\u001b[0m o \u001b[39m=\u001b[39m stump()\n\u001b[0;32m      2\u001b[0m weights \u001b[39m=\u001b[39m [\u001b[39m1\u001b[39m\u001b[39m/\u001b[39mX\u001b[39m.\u001b[39mshape[\u001b[39m0\u001b[39m] \u001b[39mfor\u001b[39;00m i \u001b[39min\u001b[39;00m \u001b[39mrange\u001b[39m(X\u001b[39m.\u001b[39mshape[\u001b[39m0\u001b[39m])]\n\u001b[1;32m----> 3\u001b[0m o\u001b[39m.\u001b[39;49mbest_stump(X,Y,weights,\u001b[39m'\u001b[39;49m\u001b[39mclassif\u001b[39;49m\u001b[39m'\u001b[39;49m)\n\u001b[0;32m      4\u001b[0m \u001b[39mprint\u001b[39m(o)\n\u001b[0;32m      6\u001b[0m \u001b[39m# test['Survived'] = o.predict(X_test)\u001b[39;00m\n\u001b[0;32m      7\u001b[0m \u001b[39m# submissions = test[['PassengerId', 'Survived']]\u001b[39;00m\n\u001b[0;32m      8\u001b[0m \n\u001b[0;32m      9\u001b[0m \u001b[39m# submissions.to_csv('submission.csv', index=False )\u001b[39;00m\n",
      "File \u001b[1;32mc:\\Users\\dhruv\\Documents\\Data-Science\\ML models\\adaboost\\stump.py:108\u001b[0m, in \u001b[0;36mstump.best_stump\u001b[1;34m(self, X, Y, weights, type)\u001b[0m\n\u001b[0;32m    105\u001b[0m         r\u001b[39m.\u001b[39mappend(Y[i])\n\u001b[0;32m    107\u001b[0m l_classif \u001b[39m=\u001b[39m mode(l)\n\u001b[1;32m--> 108\u001b[0m r_classif \u001b[39m=\u001b[39m mode(r)\n\u001b[0;32m    110\u001b[0m res \u001b[39m=\u001b[39m \u001b[39mself\u001b[39m\u001b[39m.\u001b[39meval_stump_weight(X,Y,weights,\u001b[39m'\u001b[39m\u001b[39mTotalError\u001b[39m\u001b[39m'\u001b[39m,X[i][j],j,l_classif,r_classif)\n\u001b[0;32m    111\u001b[0m stump_weight \u001b[39m=\u001b[39m res[\u001b[39m0\u001b[39m]\n",
      "File \u001b[1;32mc:\\Python\\Python310\\lib\\statistics.py:583\u001b[0m, in \u001b[0;36mmode\u001b[1;34m(data)\u001b[0m\n\u001b[0;32m    581\u001b[0m     \u001b[39mreturn\u001b[39;00m pairs[\u001b[39m0\u001b[39m][\u001b[39m0\u001b[39m]\n\u001b[0;32m    582\u001b[0m \u001b[39mexcept\u001b[39;00m \u001b[39mIndexError\u001b[39;00m:\n\u001b[1;32m--> 583\u001b[0m     \u001b[39mraise\u001b[39;00m StatisticsError(\u001b[39m'\u001b[39m\u001b[39mno mode for empty data\u001b[39m\u001b[39m'\u001b[39m) \u001b[39mfrom\u001b[39;00m \u001b[39mNone\u001b[39m\n",
      "\u001b[1;31mStatisticsError\u001b[0m: no mode for empty data"
     ]
    }
   ],
   "source": [
    "o = stump()\n",
    "weights = [1/X.shape[0] for i in range(X.shape[0])]\n",
    "o.best_stump(X,Y,weights,'classif')\n",
    "print(o)\n",
    "\n",
    "# test['Survived'] = o.predict(X_test)\n",
    "# submissions = test[['PassengerId', 'Survived']]\n",
    "\n",
    "# submissions.to_csv('submission.csv', index=False )"
   ]
  }
 ],
 "metadata": {
  "kernelspec": {
   "display_name": "Python 3",
   "language": "python",
   "name": "python3"
  },
  "language_info": {
   "codemirror_mode": {
    "name": "ipython",
    "version": 3
   },
   "file_extension": ".py",
   "mimetype": "text/x-python",
   "name": "python",
   "nbconvert_exporter": "python",
   "pygments_lexer": "ipython3",
   "version": "3.10.6"
  },
  "orig_nbformat": 4
 },
 "nbformat": 4,
 "nbformat_minor": 2
}
